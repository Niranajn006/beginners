{
 "cells": [
  {
   "cell_type": "code",
   "execution_count": null,
   "metadata": {},
   "outputs": [],
   "source": [
    "import gym\n",
    "import numpy as np\n",
    "import time, os\n",
    "\n",
    "env = gym.make('FrozenLake-v0')\n",
    "\n",
    "epsilon = 0.9\n",
    "# min_epsilon = 0.1\n",
    "# max_epsilon = 1.0\n",
    "# decay_rate = 0.01\n",
    "\n",
    "total_episodes = 10000\n",
    "max_steps = 100\n",
    "\n",
    "lr_rate = 0.81\n",
    "gamma = 0.96\n",
    "\n",
    "Q = np.zeros((env.observation_space.n, env.action_space.n))\n",
    "    \n",
    "def choose_action(state):\n",
    "        action=0\n",
    "        if np.random.uniform(0, 1) < epsilon:\n",
    "                action = env.action_space.sample()\n",
    "        else:\n",
    "                action = np.argmax(Q[state, :])\n",
    "        return action\n",
    "\n",
    "def learn(state, state2, reward, action, action2):\n",
    "        predict = Q[state, action]\n",
    "        target = reward + gamma * Q[state2, action2]\n",
    "        Q[state, action] = Q[state, action] + lr_rate * (target - predict)\n",
    "\n",
    "# Start\n",
    "rewards=0\n",
    "\n",
    "for episode in range(total_episodes):\n",
    "        t = 0\n",
    "        state = env.reset()\n",
    "        action = choose_action(state)\n",
    "    \n",
    "        while t < max_steps:\n",
    "                env.render()\n",
    "\n",
    "                state2, reward, done, info = env.step(action)\n",
    "\n",
    "                action2 = choose_action(state2)\n",
    "\n",
    "                learn(state, state2, reward, action, action2)\n",
    "\n",
    "                state = state2\n",
    "                action = action2\n",
    "\n",
    "                t += 1\n",
    "                rewards+=1\n",
    "\n",
    "                if done:\n",
    "                        break\n",
    "  # epsilon = min_epsilon + (max_epsilon - min_epsilon) * np.exp(-decay_rate * episode) \n",
    "  # os.system('clear')\n",
    "                time.sleep(0.1)\n",
    "\n",
    "    \n",
    "print (\"Score over time: \", rewards/total_episodes)\n",
    "print(Q)\n"
   ]
  },
  {
   "cell_type": "code",
   "execution_count": null,
   "metadata": {},
   "outputs": [],
   "source": [
    "Q"
   ]
  },
  {
   "cell_type": "code",
   "execution_count": null,
   "metadata": {},
   "outputs": [],
   "source": []
  }
 ],
 "metadata": {
  "kernelspec": {
   "display_name": "Python 3",
   "language": "python",
   "name": "python3"
  },
  "language_info": {
   "codemirror_mode": {
    "name": "ipython",
    "version": 3
   },
   "file_extension": ".py",
   "mimetype": "text/x-python",
   "name": "python",
   "nbconvert_exporter": "python",
   "pygments_lexer": "ipython3",
   "version": "3.6.5"
  }
 },
 "nbformat": 4,
 "nbformat_minor": 2
}
