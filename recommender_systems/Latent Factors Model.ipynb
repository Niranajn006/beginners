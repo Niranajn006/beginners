{
 "cells": [
  {
   "cell_type": "code",
   "execution_count": 1,
   "metadata": {},
   "outputs": [],
   "source": [
    "import pandas as pd\n",
    "dataFile='BX-CSV-Dump/BX-Book-Ratings.csv'\n",
    "data=pd.read_csv(dataFile,sep=\";\",header=0,names=[\"user\",\"isbn\",\"rating\"])"
   ]
  },
  {
   "cell_type": "code",
   "execution_count": 2,
   "metadata": {},
   "outputs": [
    {
     "data": {
      "text/html": [
       "<div>\n",
       "<style scoped>\n",
       "    .dataframe tbody tr th:only-of-type {\n",
       "        vertical-align: middle;\n",
       "    }\n",
       "\n",
       "    .dataframe tbody tr th {\n",
       "        vertical-align: top;\n",
       "    }\n",
       "\n",
       "    .dataframe thead th {\n",
       "        text-align: right;\n",
       "    }\n",
       "</style>\n",
       "<table border=\"1\" class=\"dataframe\">\n",
       "  <thead>\n",
       "    <tr style=\"text-align: right;\">\n",
       "      <th></th>\n",
       "      <th>user</th>\n",
       "      <th>isbn</th>\n",
       "      <th>rating</th>\n",
       "    </tr>\n",
       "  </thead>\n",
       "  <tbody>\n",
       "    <tr>\n",
       "      <th>0</th>\n",
       "      <td>276726</td>\n",
       "      <td>0155061224</td>\n",
       "      <td>5</td>\n",
       "    </tr>\n",
       "    <tr>\n",
       "      <th>1</th>\n",
       "      <td>276727</td>\n",
       "      <td>0446520802</td>\n",
       "      <td>0</td>\n",
       "    </tr>\n",
       "    <tr>\n",
       "      <th>2</th>\n",
       "      <td>276729</td>\n",
       "      <td>052165615X</td>\n",
       "      <td>3</td>\n",
       "    </tr>\n",
       "    <tr>\n",
       "      <th>3</th>\n",
       "      <td>276729</td>\n",
       "      <td>0521795028</td>\n",
       "      <td>6</td>\n",
       "    </tr>\n",
       "    <tr>\n",
       "      <th>4</th>\n",
       "      <td>276733</td>\n",
       "      <td>2080674722</td>\n",
       "      <td>0</td>\n",
       "    </tr>\n",
       "  </tbody>\n",
       "</table>\n",
       "</div>"
      ],
      "text/plain": [
       "     user        isbn  rating\n",
       "0  276726  0155061224       5\n",
       "1  276727  0446520802       0\n",
       "2  276729  052165615X       3\n",
       "3  276729  0521795028       6\n",
       "4  276733  2080674722       0"
      ]
     },
     "execution_count": 2,
     "metadata": {},
     "output_type": "execute_result"
    }
   ],
   "source": [
    "data.head()"
   ]
  },
  {
   "cell_type": "code",
   "execution_count": 3,
   "metadata": {},
   "outputs": [],
   "source": [
    "bookFile='BX-CSV-Dump/BX-Books.csv'\n",
    "books=pd.read_csv(bookFile,sep=\";\",header=0,error_bad_lines=False, usecols=[0,1,2],index_col=0,names=['isbn',\"title\",\"author\"])"
   ]
  },
  {
   "cell_type": "code",
   "execution_count": 4,
   "metadata": {},
   "outputs": [
    {
     "data": {
      "text/html": [
       "<div>\n",
       "<style scoped>\n",
       "    .dataframe tbody tr th:only-of-type {\n",
       "        vertical-align: middle;\n",
       "    }\n",
       "\n",
       "    .dataframe tbody tr th {\n",
       "        vertical-align: top;\n",
       "    }\n",
       "\n",
       "    .dataframe thead th {\n",
       "        text-align: right;\n",
       "    }\n",
       "</style>\n",
       "<table border=\"1\" class=\"dataframe\">\n",
       "  <thead>\n",
       "    <tr style=\"text-align: right;\">\n",
       "      <th></th>\n",
       "      <th>title</th>\n",
       "      <th>author</th>\n",
       "    </tr>\n",
       "    <tr>\n",
       "      <th>isbn</th>\n",
       "      <th></th>\n",
       "      <th></th>\n",
       "    </tr>\n",
       "  </thead>\n",
       "  <tbody>\n",
       "    <tr>\n",
       "      <th>0002005018</th>\n",
       "      <td>Clara Callan</td>\n",
       "      <td>Richard Bruce Wright</td>\n",
       "    </tr>\n",
       "    <tr>\n",
       "      <th>0060973129</th>\n",
       "      <td>Decision in Normandy</td>\n",
       "      <td>Carlo D'Este</td>\n",
       "    </tr>\n",
       "    <tr>\n",
       "      <th>0374157065</th>\n",
       "      <td>Flu: The Story of the Great Influenza Pandemic...</td>\n",
       "      <td>Gina Bari Kolata</td>\n",
       "    </tr>\n",
       "    <tr>\n",
       "      <th>0393045218</th>\n",
       "      <td>The Mummies of Urumchi</td>\n",
       "      <td>E. J. W. Barber</td>\n",
       "    </tr>\n",
       "    <tr>\n",
       "      <th>0399135782</th>\n",
       "      <td>The Kitchen God's Wife</td>\n",
       "      <td>Amy Tan</td>\n",
       "    </tr>\n",
       "  </tbody>\n",
       "</table>\n",
       "</div>"
      ],
      "text/plain": [
       "                                                        title  \\\n",
       "isbn                                                            \n",
       "0002005018                                       Clara Callan   \n",
       "0060973129                               Decision in Normandy   \n",
       "0374157065  Flu: The Story of the Great Influenza Pandemic...   \n",
       "0393045218                             The Mummies of Urumchi   \n",
       "0399135782                             The Kitchen God's Wife   \n",
       "\n",
       "                          author  \n",
       "isbn                              \n",
       "0002005018  Richard Bruce Wright  \n",
       "0060973129          Carlo D'Este  \n",
       "0374157065      Gina Bari Kolata  \n",
       "0393045218       E. J. W. Barber  \n",
       "0399135782               Amy Tan  "
      ]
     },
     "execution_count": 4,
     "metadata": {},
     "output_type": "execute_result"
    }
   ],
   "source": [
    "books.head()"
   ]
  },
  {
   "cell_type": "code",
   "execution_count": 5,
   "metadata": {},
   "outputs": [
    {
     "data": {
      "text/plain": [
       "('Angels &amp; Demons', 'Dan Brown')"
      ]
     },
     "execution_count": 5,
     "metadata": {},
     "output_type": "execute_result"
    }
   ],
   "source": [
    "def bookMeta(isbn):\n",
    "    title = books.at[isbn,\"title\"]\n",
    "    author = books.at[isbn,\"author\"]\n",
    "    return title, author\n",
    "bookMeta(\"0671027360\")"
   ]
  },
  {
   "cell_type": "code",
   "execution_count": 9,
   "metadata": {},
   "outputs": [],
   "source": [
    "data = data[data[\"isbn\"].isin(books.index)]"
   ]
  },
  {
   "cell_type": "code",
   "execution_count": 10,
   "metadata": {},
   "outputs": [],
   "source": [
    "def faveBooks(user,N):\n",
    "    userRatings = data[data[\"user\"]==user]\n",
    "    sortedRatings = pd.DataFrame.sort_values(userRatings,['rating'],ascending=[0])[:N] \n",
    "    sortedRatings[\"title\"] = sortedRatings[\"isbn\"].apply(bookMeta)\n",
    "    return sortedRatings"
   ]
  },
  {
   "cell_type": "code",
   "execution_count": 11,
   "metadata": {},
   "outputs": [
    {
     "data": {
      "text/html": [
       "<div>\n",
       "<style scoped>\n",
       "    .dataframe tbody tr th:only-of-type {\n",
       "        vertical-align: middle;\n",
       "    }\n",
       "\n",
       "    .dataframe tbody tr th {\n",
       "        vertical-align: top;\n",
       "    }\n",
       "\n",
       "    .dataframe thead th {\n",
       "        text-align: right;\n",
       "    }\n",
       "</style>\n",
       "<table border=\"1\" class=\"dataframe\">\n",
       "  <thead>\n",
       "    <tr style=\"text-align: right;\">\n",
       "      <th></th>\n",
       "      <th>user</th>\n",
       "      <th>isbn</th>\n",
       "      <th>rating</th>\n",
       "      <th>title</th>\n",
       "    </tr>\n",
       "  </thead>\n",
       "  <tbody>\n",
       "    <tr>\n",
       "      <th>844954</th>\n",
       "      <td>204622</td>\n",
       "      <td>0967560500</td>\n",
       "      <td>10</td>\n",
       "      <td>(Natural Hormonal Enhancement, Rob Faigin)</td>\n",
       "    </tr>\n",
       "    <tr>\n",
       "      <th>844934</th>\n",
       "      <td>204622</td>\n",
       "      <td>0671027360</td>\n",
       "      <td>10</td>\n",
       "      <td>(Angels &amp;amp; Demons, Dan Brown)</td>\n",
       "    </tr>\n",
       "    <tr>\n",
       "      <th>844925</th>\n",
       "      <td>204622</td>\n",
       "      <td>0385504209</td>\n",
       "      <td>10</td>\n",
       "      <td>(The Da Vinci Code, Dan Brown)</td>\n",
       "    </tr>\n",
       "    <tr>\n",
       "      <th>844957</th>\n",
       "      <td>204622</td>\n",
       "      <td>097173660X</td>\n",
       "      <td>9</td>\n",
       "      <td>(Life After School Explained, Cap &amp;amp; Compass)</td>\n",
       "    </tr>\n",
       "    <tr>\n",
       "      <th>844919</th>\n",
       "      <td>204622</td>\n",
       "      <td>0060935464</td>\n",
       "      <td>9</td>\n",
       "      <td>(To Kill a Mockingbird, Harper Lee)</td>\n",
       "    </tr>\n",
       "  </tbody>\n",
       "</table>\n",
       "</div>"
      ],
      "text/plain": [
       "          user        isbn  rating  \\\n",
       "844954  204622  0967560500      10   \n",
       "844934  204622  0671027360      10   \n",
       "844925  204622  0385504209      10   \n",
       "844957  204622  097173660X       9   \n",
       "844919  204622  0060935464       9   \n",
       "\n",
       "                                                   title  \n",
       "844954        (Natural Hormonal Enhancement, Rob Faigin)  \n",
       "844934                  (Angels &amp; Demons, Dan Brown)  \n",
       "844925                    (The Da Vinci Code, Dan Brown)  \n",
       "844957  (Life After School Explained, Cap &amp; Compass)  \n",
       "844919               (To Kill a Mockingbird, Harper Lee)  "
      ]
     },
     "execution_count": 11,
     "metadata": {},
     "output_type": "execute_result"
    }
   ],
   "source": [
    "faveBooks(204622,5)"
   ]
  },
  {
   "cell_type": "code",
   "execution_count": 12,
   "metadata": {},
   "outputs": [
    {
     "data": {
      "text/plain": [
       "(1031173, 3)"
      ]
     },
     "execution_count": 12,
     "metadata": {},
     "output_type": "execute_result"
    }
   ],
   "source": [
    "data.shape"
   ]
  },
  {
   "cell_type": "code",
   "execution_count": 13,
   "metadata": {},
   "outputs": [
    {
     "data": {
      "text/plain": [
       "0971880107    2502\n",
       "0316666343    1295\n",
       "0385504209     883\n",
       "0060928336     732\n",
       "0312195516     723\n",
       "044023722X     647\n",
       "0142001740     615\n",
       "067976402X     614\n",
       "0671027360     586\n",
       "0446672211     585\n",
       "Name: isbn, dtype: int64"
      ]
     },
     "execution_count": 13,
     "metadata": {},
     "output_type": "execute_result"
    }
   ],
   "source": [
    "usersPerISBN = data.isbn.value_counts()\n",
    "usersPerISBN.head(10)"
   ]
  },
  {
   "cell_type": "code",
   "execution_count": 14,
   "metadata": {},
   "outputs": [
    {
     "data": {
      "text/plain": [
       "(270169,)"
      ]
     },
     "execution_count": 14,
     "metadata": {},
     "output_type": "execute_result"
    }
   ],
   "source": [
    "usersPerISBN.shape"
   ]
  },
  {
   "cell_type": "code",
   "execution_count": 15,
   "metadata": {},
   "outputs": [],
   "source": [
    "ISBNsPerUser = data.user.value_counts()"
   ]
  },
  {
   "cell_type": "code",
   "execution_count": 16,
   "metadata": {},
   "outputs": [
    {
     "data": {
      "text/plain": [
       "(92105,)"
      ]
     },
     "execution_count": 16,
     "metadata": {},
     "output_type": "execute_result"
    }
   ],
   "source": [
    "ISBNsPerUser.shape"
   ]
  },
  {
   "cell_type": "code",
   "execution_count": 17,
   "metadata": {},
   "outputs": [],
   "source": [
    "data = data[data[\"isbn\"].isin(usersPerISBN[usersPerISBN>10].index)]"
   ]
  },
  {
   "cell_type": "code",
   "execution_count": 18,
   "metadata": {},
   "outputs": [],
   "source": [
    "data = data[data[\"user\"].isin(ISBNsPerUser[ISBNsPerUser>10].index)]"
   ]
  },
  {
   "cell_type": "code",
   "execution_count": 19,
   "metadata": {},
   "outputs": [],
   "source": [
    "from scipy.sparse import coo_matrix\n",
    "data['user'] = data['user'].astype(\"category\")\n",
    "data['isbn'] = data['isbn'].astype(\"category\")\n",
    "\n",
    "R = coo_matrix((data['rating'].astype(float),\n",
    "                       (data['user'].cat.codes.copy(),\n",
    "                        data['isbn'].cat.codes.copy())))"
   ]
  },
  {
   "cell_type": "code",
   "execution_count": 20,
   "metadata": {},
   "outputs": [
    {
     "data": {
      "text/plain": [
       "(10706, 15451)"
      ]
     },
     "execution_count": 20,
     "metadata": {},
     "output_type": "execute_result"
    }
   ],
   "source": [
    "R.shape"
   ]
  },
  {
   "cell_type": "code",
   "execution_count": 21,
   "metadata": {},
   "outputs": [
    {
     "data": {
      "text/plain": [
       "405709"
      ]
     },
     "execution_count": 21,
     "metadata": {},
     "output_type": "execute_result"
    }
   ],
   "source": [
    "len(R.data)"
   ]
  },
  {
   "cell_type": "code",
   "execution_count": 22,
   "metadata": {},
   "outputs": [
    {
     "data": {
      "text/plain": [
       "0.0"
      ]
     },
     "execution_count": 22,
     "metadata": {},
     "output_type": "execute_result"
    }
   ],
   "source": [
    "R.data[0]"
   ]
  },
  {
   "cell_type": "code",
   "execution_count": 23,
   "metadata": {},
   "outputs": [
    {
     "data": {
      "text/plain": [
       "10633"
      ]
     },
     "execution_count": 23,
     "metadata": {},
     "output_type": "execute_result"
    }
   ],
   "source": [
    "R.row[0]"
   ]
  },
  {
   "cell_type": "code",
   "execution_count": 24,
   "metadata": {},
   "outputs": [
    {
     "data": {
      "text/plain": [
       "3053"
      ]
     },
     "execution_count": 24,
     "metadata": {},
     "output_type": "execute_result"
    }
   ],
   "source": [
    "R.col[0]"
   ]
  },
  {
   "cell_type": "code",
   "execution_count": 25,
   "metadata": {},
   "outputs": [],
   "source": [
    "M,N = R.shape\n",
    "K = 3"
   ]
  },
  {
   "cell_type": "code",
   "execution_count": 26,
   "metadata": {},
   "outputs": [],
   "source": [
    "import numpy as np\n",
    "P = np.random.rand(M,K)\n",
    "Q = np.random.rand(K,N)"
   ]
  },
  {
   "cell_type": "code",
   "execution_count": 27,
   "metadata": {},
   "outputs": [],
   "source": [
    "from numpy.linalg import norm\n",
    "\n",
    "def error(R,P,Q,lamda=0.02):\n",
    "    ratings = R.data\n",
    "    rows = R.row\n",
    "    cols = R.col\n",
    "    e = 0 \n",
    "    for ui in range(len(ratings)):\n",
    "        rui=ratings[ui]\n",
    "        u = rows[ui]\n",
    "        i = cols[ui]\n",
    "        if rui>0:\n",
    "            e= e + pow(rui-np.dot(P[u,:],Q[:,i]),2)+\\\n",
    "                lamda*(pow(norm(P[u,:]),2)+pow(norm(Q[:,i]),2))\n",
    "    return e"
   ]
  },
  {
   "cell_type": "code",
   "execution_count": 28,
   "metadata": {},
   "outputs": [
    {
     "data": {
      "text/plain": [
       "7144326.299961165"
      ]
     },
     "execution_count": 28,
     "metadata": {},
     "output_type": "execute_result"
    }
   ],
   "source": [
    "error(R,P,Q)"
   ]
  },
  {
   "cell_type": "code",
   "execution_count": 29,
   "metadata": {},
   "outputs": [],
   "source": [
    "rmse = np.sqrt(error(R,P,Q)/len(R.data))"
   ]
  },
  {
   "cell_type": "code",
   "execution_count": 27,
   "metadata": {},
   "outputs": [
    {
     "data": {
      "text/plain": [
       "4.1954897042123482"
      ]
     },
     "execution_count": 27,
     "metadata": {},
     "output_type": "execute_result"
    }
   ],
   "source": [
    "rmse"
   ]
  },
  {
   "cell_type": "code",
   "execution_count": 36,
   "metadata": {},
   "outputs": [],
   "source": [
    "def SGD(R, K, lamda=0.02,steps=10, gamma=0.001):\n",
    "    \n",
    "    M,N = R.shape\n",
    "    P = np.random.rand(M,K)\n",
    "    Q = np.random.rand(K,N)\n",
    "    \n",
    "    rmse = np.sqrt(error(R,P,Q,lamda)/len(R.data))\n",
    "    print(\"Initial RMSE: \"+str(rmse))\n",
    "    \n",
    "    for step in range(steps):\n",
    "        for ui in range(len(R.data)):\n",
    "            rui=R.data[ui]\n",
    "            u = R.row[ui]\n",
    "            i = R.col[ui]\n",
    "            if rui>0:\n",
    "                eui=rui-np.dot(P[u,:],Q[:,i])\n",
    "                P[u,:]=P[u,:]+gamma*2*(eui*Q[:,i]-lamda*P[u,:])\n",
    "                Q[:,i]=Q[:,i]+gamma*2*(eui*P[u,:]-lamda*Q[:,i])\n",
    "        rmse = np.sqrt(error(R,P,Q,lamda)/len(R.data))\n",
    "        print(\"RMSE@step{}: {}\".format(step,rmse))\n",
    "        if rmse<0.5:\n",
    "            break\n",
    "    print(\"Final RMSE: \"+str(rmse))\n",
    "    return P,Q"
   ]
  },
  {
   "cell_type": "code",
   "execution_count": 40,
   "metadata": {},
   "outputs": [
    {
     "name": "stdout",
     "output_type": "stream",
     "text": [
      "Initial RMSE: 4.330798158809477\n",
      "RMSE@step0: 2.8832436661791525\n",
      "RMSE@step1: 1.2787505956027954\n",
      "RMSE@step2: 1.0159084021444387\n",
      "RMSE@step3: 0.9173881871001106\n",
      "RMSE@step4: 0.8720316532857231\n",
      "RMSE@step5: 0.8471326672441736\n",
      "RMSE@step6: 0.831343748103382\n",
      "RMSE@step7: 0.8201943499898001\n",
      "RMSE@step8: 0.8116916522647106\n",
      "RMSE@step9: 0.8048316653486705\n",
      "RMSE@step10: 0.7990534008609659\n",
      "RMSE@step11: 0.7940212636222769\n",
      "RMSE@step12: 0.7895281083424187\n",
      "RMSE@step13: 0.7854445221030989\n",
      "RMSE@step14: 0.7816883399697242\n",
      "RMSE@step15: 0.7782056165900775\n",
      "RMSE@step16: 0.7749592353142277\n",
      "RMSE@step17: 0.7719224252637686\n",
      "RMSE@step18: 0.7690750451745186\n",
      "RMSE@step19: 0.7664012763281702\n",
      "RMSE@step20: 0.763888070742802\n",
      "RMSE@step21: 0.7615241203640807\n",
      "RMSE@step22: 0.7592992612156517\n",
      "RMSE@step23: 0.7572042085131673\n",
      "RMSE@step24: 0.7552304706531373\n",
      "RMSE@step25: 0.7533703023881557\n",
      "RMSE@step26: 0.7516166243655671\n",
      "RMSE@step27: 0.7499629028515441\n",
      "RMSE@step28: 0.748403017778483\n",
      "RMSE@step29: 0.7469311520071424\n",
      "RMSE@step30: 0.7455417233246405\n",
      "RMSE@step31: 0.744229363256141\n",
      "RMSE@step32: 0.7429889308995231\n",
      "RMSE@step33: 0.7418155420193691\n",
      "RMSE@step34: 0.7407045955715754\n",
      "RMSE@step35: 0.7396517881502589\n",
      "RMSE@step36: 0.7386531156887723\n",
      "RMSE@step37: 0.7377048670445006\n",
      "RMSE@step38: 0.736803615077575\n",
      "RMSE@step39: 0.735946208900932\n",
      "RMSE@step40: 0.7351297680293254\n",
      "RMSE@step41: 0.7343516766073834\n",
      "RMSE@step42: 0.7336095745114938\n",
      "RMSE@step43: 0.732901342163799\n",
      "RMSE@step44: 0.7322250772852851\n",
      "RMSE@step45: 0.7315790641495424\n",
      "RMSE@step46: 0.7309617384438841\n",
      "RMSE@step47: 0.7303716526441218\n",
      "RMSE@step48: 0.729807447038738\n",
      "RMSE@step49: 0.7292678299977502\n",
      "RMSE@step50: 0.7287515684055279\n",
      "RMSE@step51: 0.7282574865343853\n",
      "RMSE@step52: 0.72778447003948\n",
      "RMSE@step53: 0.7273314715498982\n",
      "RMSE@step54: 0.7268975151654933\n",
      "RMSE@step55: 0.7264816984029872\n",
      "RMSE@step56: 0.7260831912301529\n",
      "RMSE@step57: 0.7257012325427774\n",
      "RMSE@step58: 0.7253351247721234\n",
      "RMSE@step59: 0.7249842273786921\n",
      "RMSE@step60: 0.7246479499191776\n",
      "RMSE@step61: 0.7243257452520738\n",
      "RMSE@step62: 0.7240171033181277\n",
      "RMSE@step63: 0.7237215457973442\n",
      "RMSE@step64: 0.723438621803746\n",
      "RMSE@step65: 0.7231679046344992\n",
      "RMSE@step66: 0.7229089894538385\n",
      "RMSE@step67: 0.7226614916930072\n",
      "RMSE@step68: 0.7224250459001794\n",
      "RMSE@step69: 0.7221993047894681\n",
      "RMSE@step70: 0.7219839382992679\n",
      "RMSE@step71: 0.7217786325556076\n",
      "RMSE@step72: 0.7215830887161416\n",
      "RMSE@step73: 0.7213970217267007\n",
      "RMSE@step74: 0.7212201590478012\n",
      "RMSE@step75: 0.7210522394061178\n",
      "RMSE@step76: 0.7208930116084096\n",
      "RMSE@step77: 0.7207422334331895\n",
      "RMSE@step78: 0.72059967059882\n",
      "RMSE@step79: 0.7204650957997809\n",
      "RMSE@step80: 0.7203382878052575\n",
      "RMSE@step81: 0.7202190306239468\n",
      "RMSE@step82: 0.7201071127494956\n",
      "RMSE@step83: 0.7200023265104973\n",
      "RMSE@step84: 0.7199044675523818\n",
      "RMSE@step85: 0.7198133344756285\n",
      "RMSE@step86: 0.7197287286463074\n",
      "RMSE@step87: 0.7196504541809804\n",
      "RMSE@step88: 0.7195783180935869\n",
      "RMSE@step89: 0.7195121305771593\n",
      "RMSE@step90: 0.7194517053820619\n",
      "RMSE@step91: 0.7193968602461687\n",
      "RMSE@step92: 0.7193474173307398\n",
      "RMSE@step93: 0.7193032036204716\n",
      "RMSE@step94: 0.7192640512531532\n",
      "RMSE@step95: 0.7192297977563833\n",
      "RMSE@step96: 0.7192002861794753\n",
      "RMSE@step97: 0.7191753651212326\n",
      "RMSE@step98: 0.7191548886638591\n",
      "RMSE@step99: 0.7191387162307263\n",
      "Final RMSE: 0.7191387162307263\n"
     ]
    }
   ],
   "source": [
    "(P,Q)=SGD(R,K=2,gamma=0.008,lamda=0.01, steps=100)"
   ]
  },
  {
   "cell_type": "code",
   "execution_count": null,
   "metadata": {},
   "outputs": [],
   "source": []
  }
 ],
 "metadata": {
  "kernelspec": {
   "display_name": "Python 3",
   "language": "python",
   "name": "python3"
  },
  "language_info": {
   "codemirror_mode": {
    "name": "ipython",
    "version": 3
   },
   "file_extension": ".py",
   "mimetype": "text/x-python",
   "name": "python",
   "nbconvert_exporter": "python",
   "pygments_lexer": "ipython3",
   "version": "3.6.5"
  }
 },
 "nbformat": 4,
 "nbformat_minor": 1
}
